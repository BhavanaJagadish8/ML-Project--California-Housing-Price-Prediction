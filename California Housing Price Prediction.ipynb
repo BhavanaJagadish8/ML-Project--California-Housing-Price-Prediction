{
 "cells": [
  {
   "cell_type": "code",
   "execution_count": 51,
   "id": "d43e8dea",
   "metadata": {},
   "outputs": [],
   "source": [
    "\n",
    "import pandas as pd\n",
    "import numpy as np\n"
   ]
  },
  {
   "cell_type": "code",
   "execution_count": 52,
   "id": "3c792516",
   "metadata": {},
   "outputs": [],
   "source": [
    "import matplotlib.pyplot as plt\n",
    "%matplotlib inline"
   ]
  },
  {
   "cell_type": "code",
   "execution_count": 53,
   "id": "14a85ab0",
   "metadata": {},
   "outputs": [
    {
     "data": {
      "text/html": [
       "<div>\n",
       "<style scoped>\n",
       "    .dataframe tbody tr th:only-of-type {\n",
       "        vertical-align: middle;\n",
       "    }\n",
       "\n",
       "    .dataframe tbody tr th {\n",
       "        vertical-align: top;\n",
       "    }\n",
       "\n",
       "    .dataframe thead th {\n",
       "        text-align: right;\n",
       "    }\n",
       "</style>\n",
       "<table border=\"1\" class=\"dataframe\">\n",
       "  <thead>\n",
       "    <tr style=\"text-align: right;\">\n",
       "      <th></th>\n",
       "      <th>longitude</th>\n",
       "      <th>latitude</th>\n",
       "      <th>housing_median_age</th>\n",
       "      <th>total_rooms</th>\n",
       "      <th>total_bedrooms</th>\n",
       "      <th>population</th>\n",
       "      <th>households</th>\n",
       "      <th>median_income</th>\n",
       "      <th>ocean_proximity</th>\n",
       "      <th>median_house_value</th>\n",
       "    </tr>\n",
       "  </thead>\n",
       "  <tbody>\n",
       "    <tr>\n",
       "      <th>0</th>\n",
       "      <td>-122.23</td>\n",
       "      <td>37.88</td>\n",
       "      <td>41</td>\n",
       "      <td>880</td>\n",
       "      <td>129.0</td>\n",
       "      <td>322</td>\n",
       "      <td>126</td>\n",
       "      <td>8.3252</td>\n",
       "      <td>NEAR BAY</td>\n",
       "      <td>452600</td>\n",
       "    </tr>\n",
       "    <tr>\n",
       "      <th>1</th>\n",
       "      <td>-122.22</td>\n",
       "      <td>37.86</td>\n",
       "      <td>21</td>\n",
       "      <td>7099</td>\n",
       "      <td>1106.0</td>\n",
       "      <td>2401</td>\n",
       "      <td>1138</td>\n",
       "      <td>8.3014</td>\n",
       "      <td>NEAR BAY</td>\n",
       "      <td>358500</td>\n",
       "    </tr>\n",
       "    <tr>\n",
       "      <th>2</th>\n",
       "      <td>-122.24</td>\n",
       "      <td>37.85</td>\n",
       "      <td>52</td>\n",
       "      <td>1467</td>\n",
       "      <td>190.0</td>\n",
       "      <td>496</td>\n",
       "      <td>177</td>\n",
       "      <td>7.2574</td>\n",
       "      <td>NEAR BAY</td>\n",
       "      <td>352100</td>\n",
       "    </tr>\n",
       "    <tr>\n",
       "      <th>3</th>\n",
       "      <td>-122.25</td>\n",
       "      <td>37.85</td>\n",
       "      <td>52</td>\n",
       "      <td>1274</td>\n",
       "      <td>235.0</td>\n",
       "      <td>558</td>\n",
       "      <td>219</td>\n",
       "      <td>5.6431</td>\n",
       "      <td>NEAR BAY</td>\n",
       "      <td>341300</td>\n",
       "    </tr>\n",
       "    <tr>\n",
       "      <th>4</th>\n",
       "      <td>-122.25</td>\n",
       "      <td>37.85</td>\n",
       "      <td>52</td>\n",
       "      <td>1627</td>\n",
       "      <td>280.0</td>\n",
       "      <td>565</td>\n",
       "      <td>259</td>\n",
       "      <td>3.8462</td>\n",
       "      <td>NEAR BAY</td>\n",
       "      <td>342200</td>\n",
       "    </tr>\n",
       "  </tbody>\n",
       "</table>\n",
       "</div>"
      ],
      "text/plain": [
       "   longitude  latitude  housing_median_age  total_rooms  total_bedrooms  \\\n",
       "0    -122.23     37.88                  41          880           129.0   \n",
       "1    -122.22     37.86                  21         7099          1106.0   \n",
       "2    -122.24     37.85                  52         1467           190.0   \n",
       "3    -122.25     37.85                  52         1274           235.0   \n",
       "4    -122.25     37.85                  52         1627           280.0   \n",
       "\n",
       "   population  households  median_income ocean_proximity  median_house_value  \n",
       "0         322         126         8.3252        NEAR BAY              452600  \n",
       "1        2401        1138         8.3014        NEAR BAY              358500  \n",
       "2         496         177         7.2574        NEAR BAY              352100  \n",
       "3         558         219         5.6431        NEAR BAY              341300  \n",
       "4         565         259         3.8462        NEAR BAY              342200  "
      ]
     },
     "execution_count": 53,
     "metadata": {},
     "output_type": "execute_result"
    }
   ],
   "source": [
    "#Read the “housing.csv” file from the folder into the program & Print first few rows of this data\n",
    "Housing = pd.read_csv('housing.csv')\n",
    "Housing.head()"
   ]
  },
  {
   "cell_type": "code",
   "execution_count": 54,
   "id": "b57868ec",
   "metadata": {
    "scrolled": true
   },
   "outputs": [
    {
     "name": "stdout",
     "output_type": "stream",
     "text": [
      "Input features (X):\n",
      "   longitude  latitude  housing_median_age  total_rooms  total_bedrooms  \\\n",
      "0    -122.23     37.88                  41          880           129.0   \n",
      "1    -122.22     37.86                  21         7099          1106.0   \n",
      "2    -122.24     37.85                  52         1467           190.0   \n",
      "3    -122.25     37.85                  52         1274           235.0   \n",
      "4    -122.25     37.85                  52         1627           280.0   \n",
      "\n",
      "   population  households  median_income ocean_proximity  \n",
      "0         322         126         8.3252        NEAR BAY  \n",
      "1        2401        1138         8.3014        NEAR BAY  \n",
      "2         496         177         7.2574        NEAR BAY  \n",
      "3         558         219         5.6431        NEAR BAY  \n",
      "4         565         259         3.8462        NEAR BAY  \n",
      "\n",
      "Output variable (Y):\n",
      "0    452600\n",
      "1    358500\n",
      "2    352100\n",
      "3    341300\n",
      "4    342200\n",
      "Name: median_house_value, dtype: int64\n"
     ]
    },
    {
     "name": "stderr",
     "output_type": "stream",
     "text": [
      "C:\\Users\\bhavna\\AppData\\Local\\Temp\\ipykernel_17256\\818866884.py:13: FutureWarning: Dropping of nuisance columns in DataFrame reductions (with 'numeric_only=None') is deprecated; in a future version this will raise TypeError.  Select only valid columns before calling the reduction.\n",
      "  X.fillna(X.mean(), inplace=True)\n"
     ]
    }
   ],
   "source": [
    "#Extract input (X) and output (Y) data from the dataset.\n",
    "Housing = pd.read_csv('housing.csv')\n",
    "\n",
    "# Extract the input features (X) and the output variable (Y)\n",
    "X = Housing.iloc[:, :-1]  # Select all columns except the last one\n",
    "Y = Housing.iloc[:, -1]   # Select the last column\n",
    "\n",
    "# Extract input (X) and output (Y) data from the dataset\n",
    "X = Housing.drop('median_house_value', axis=1)\n",
    "Y = Housing['median_house_value']\n",
    "\n",
    "# Handle missing values by filling them with the mean of the respective column\n",
    "X.fillna(X.mean(), inplace=True)\n",
    "\n",
    "# Print the first few rows of X and Y\n",
    "print(\"Input features (X):\")\n",
    "print(X.head())\n",
    "print(\"\\nOutput variable (Y):\")\n",
    "print(Y.head())"
   ]
  },
  {
   "cell_type": "code",
   "execution_count": 55,
   "id": "b534067e",
   "metadata": {},
   "outputs": [
    {
     "name": "stdout",
     "output_type": "stream",
     "text": [
      "   longitude  latitude  housing_median_age  total_rooms  total_bedrooms  \\\n",
      "0    -122.23     37.88                  41          880           129.0   \n",
      "1    -122.22     37.86                  21         7099          1106.0   \n",
      "2    -122.24     37.85                  52         1467           190.0   \n",
      "3    -122.25     37.85                  52         1274           235.0   \n",
      "4    -122.25     37.85                  52         1627           280.0   \n",
      "\n",
      "   population  households  median_income ocean_proximity  median_house_value  \n",
      "0         322         126         8.3252        NEAR BAY              452600  \n",
      "1        2401        1138         8.3014        NEAR BAY              358500  \n",
      "2         496         177         7.2574        NEAR BAY              352100  \n",
      "3         558         219         5.6431        NEAR BAY              341300  \n",
      "4         565         259         3.8462        NEAR BAY              342200  \n"
     ]
    },
    {
     "name": "stderr",
     "output_type": "stream",
     "text": [
      "C:\\Users\\bhavna\\AppData\\Local\\Temp\\ipykernel_17256\\4281865391.py:4: FutureWarning: Dropping of nuisance columns in DataFrame reductions (with 'numeric_only=None') is deprecated; in a future version this will raise TypeError.  Select only valid columns before calling the reduction.\n",
      "  Housing = Housing.fillna(Housing.mean())\n"
     ]
    }
   ],
   "source": [
    "#Fill the missing values with the mean of the respective column.\n",
    "\n",
    "# Fill missing values with column means\n",
    "Housing = Housing.fillna(Housing.mean())\n",
    "\n",
    "# Print the first few rows of the updated DataFrame\n",
    "print(Housing.head())"
   ]
  },
  {
   "cell_type": "code",
   "execution_count": 56,
   "id": "aabdb261",
   "metadata": {},
   "outputs": [
    {
     "name": "stdout",
     "output_type": "stream",
     "text": [
      "   longitude  latitude  housing_median_age  total_rooms  total_bedrooms  \\\n",
      "0    -122.23     37.88                  41          880           129.0   \n",
      "1    -122.22     37.86                  21         7099          1106.0   \n",
      "2    -122.24     37.85                  52         1467           190.0   \n",
      "3    -122.25     37.85                  52         1274           235.0   \n",
      "4    -122.25     37.85                  52         1627           280.0   \n",
      "\n",
      "   population  households  median_income  median_house_value  \\\n",
      "0         322         126         8.3252              452600   \n",
      "1        2401        1138         8.3014              358500   \n",
      "2         496         177         7.2574              352100   \n",
      "3         558         219         5.6431              341300   \n",
      "4         565         259         3.8462              342200   \n",
      "\n",
      "   ocean_proximity_<1H OCEAN  ocean_proximity_INLAND  ocean_proximity_ISLAND  \\\n",
      "0                          0                       0                       0   \n",
      "1                          0                       0                       0   \n",
      "2                          0                       0                       0   \n",
      "3                          0                       0                       0   \n",
      "4                          0                       0                       0   \n",
      "\n",
      "   ocean_proximity_NEAR BAY  ocean_proximity_NEAR OCEAN  \n",
      "0                         1                           0  \n",
      "1                         1                           0  \n",
      "2                         1                           0  \n",
      "3                         1                           0  \n",
      "4                         1                           0  \n"
     ]
    }
   ],
   "source": [
    "#Convert categorical column in the dataset to numerical data.\n",
    "Housing = pd.get_dummies(Housing)\n",
    "\n",
    "# Print the first few rows of the updated DataFrame\n",
    "print(Housing.head())"
   ]
  },
  {
   "cell_type": "code",
   "execution_count": 61,
   "id": "057ae454",
   "metadata": {},
   "outputs": [
    {
     "name": "stdout",
     "output_type": "stream",
     "text": [
      "Dimensions of training set: (16512, 13)\n",
      "Dimensions of test set: (4128, 13)\n",
      "Standardized training dataset:\n",
      "[[ 1.00389865 -0.8400624  -1.79507596 ... -0.01348032 -0.35239609\n",
      "  -0.38649771]\n",
      " [-1.43477229  0.98536392  1.85553889 ... -0.01348032  2.83771591\n",
      "  -0.38649771]\n",
      " [ 0.77948108 -0.8400624  -0.20785212 ... -0.01348032 -0.35239609\n",
      "  -0.38649771]\n",
      " ...\n",
      " [-1.1654712   0.44709718  0.18895385 ... -0.01348032 -0.35239609\n",
      "   2.58733744]\n",
      " [ 0.81439048 -0.93835459  0.42703742 ... -0.01348032 -0.35239609\n",
      "  -0.38649771]\n",
      " [ 1.99632302 -1.32216217 -1.08082523 ... -0.01348032 -0.35239609\n",
      "  -0.38649771]]\n",
      "\n",
      "Standardized test dataset:\n",
      "[[ 1.2532515  -1.42513494 -0.52529688 ... -0.01348032 -0.35239609\n",
      "   2.58733744]\n",
      " [ 0.79444225 -0.79793718  0.26831504 ... -0.01348032 -0.35239609\n",
      "  -0.38649771]\n",
      " [-1.13554886  1.41597731  0.03023146 ... -0.01348032 -0.35239609\n",
      "  -0.38649771]\n",
      " ...\n",
      " [-0.67673961  1.51426949 -1.39827    ... -0.01348032 -0.35239609\n",
      "  -0.38649771]\n",
      " [-1.19040649  1.09301727 -0.84274165 ... -0.01348032 -0.35239609\n",
      "  -0.38649771]\n",
      " [ 0.67973993 -0.70432557  1.85553889 ... -0.01348032 -0.35239609\n",
      "  -0.38649771]]\n"
     ]
    },
    {
     "name": "stderr",
     "output_type": "stream",
     "text": [
      "C:\\Users\\bhavna\\AppData\\Local\\Temp\\ipykernel_17256\\488320770.py:13: FutureWarning: Dropping of nuisance columns in DataFrame reductions (with 'numeric_only=None') is deprecated; in a future version this will raise TypeError.  Select only valid columns before calling the reduction.\n",
      "  X.fillna(X.mean(), inplace=True)\n"
     ]
    }
   ],
   "source": [
    "#Split the data into 80% training dataset and 20% test dataset & # Perform Linear Regression : Standardize training and test datasets\n",
    "from sklearn.model_selection import train_test_split\n",
    "from sklearn.preprocessing import StandardScaler\n",
    "\n",
    "# Read the \"housing.csv\" file from the folder\n",
    "Housing = pd.read_csv(\"housing.csv\")\n",
    "\n",
    "# Extract input (X) and output (Y) data from the dataset\n",
    "X = Housing.drop('median_house_value', axis=1)\n",
    "Y = Housing['median_house_value']\n",
    "\n",
    "# Handle missing values by filling them with the mean of the respective column\n",
    "X.fillna(X.mean(), inplace=True)\n",
    "\n",
    "# Encode categorical data by converting the categorical column to numerical data\n",
    "X = pd.get_dummies(X, columns=['ocean_proximity'])\n",
    "\n",
    "# Split the data into 80% training dataset and 20% test dataset\n",
    "X_train, X_test, Y_train, Y_test = train_test_split(X, Y, test_size=0.2, random_state=0)\n",
    "\n",
    "# Standardize the training and test datasets\n",
    "sc = StandardScaler()\n",
    "X_train = sc.fit_transform(X_train)\n",
    "X_test = sc.transform(X_test)\n",
    "\n",
    "# Print the dimensions of the training and test sets\n",
    "print(\"Dimensions of training set:\", X_train.shape)\n",
    "print(\"Dimensions of test set:\", X_test.shape)\n",
    "\n",
    "# Print the standardized training and test datasets\n",
    "print(\"Standardized training dataset:\")\n",
    "print(X_train)\n",
    "print(\"\\nStandardized test dataset:\")\n",
    "print(X_test)\n"
   ]
  },
  {
   "cell_type": "code",
   "execution_count": 67,
   "id": "0634032e",
   "metadata": {},
   "outputs": [
    {
     "name": "stdout",
     "output_type": "stream",
     "text": [
      "Linear Regression Root Mean Squared Error: 68689.20561705148\n"
     ]
    }
   ],
   "source": [
    "# Perform Linear Regression on training data.\n",
    "\n",
    "from sklearn.linear_model import LinearRegression\n",
    "from sklearn.metrics import mean_squared_error\n",
    "\n",
    "lr = LinearRegression()\n",
    "lr.fit(X_train, Y_train)\n",
    "\n",
    "# Predicting the Test set results\n",
    "Y_pred = lr.predict(X_test)\n",
    "\n",
    "# Printing the RMSE from linear regression\n",
    "print('Linear Regression Root Mean Squared Error:', np.sqrt(mean_squared_error(Y_test, Y_pred)))"
   ]
  },
  {
   "cell_type": "code",
   "execution_count": 74,
   "id": "549dfcf6",
   "metadata": {},
   "outputs": [
    {
     "name": "stdout",
     "output_type": "stream",
     "text": [
      "Decision Tree Regression Root Mean Squared Error: 67967.01649936427\n"
     ]
    }
   ],
   "source": [
    "# Perform decision tree regression to the training set\n",
    "from sklearn.tree import DecisionTreeRegressor\n",
    "\n",
    "dt = DecisionTreeRegressor(random_state=0)\n",
    "dt.fit(X_train, Y_train)\n",
    "\n",
    "# Predicting the Test set results\n",
    "Y_pred = dt.predict(X_test)\n",
    "\n",
    "# Printing the RMSE from decision tree regression\n",
    "print('Decision Tree Regression Root Mean Squared Error:', np.sqrt(mean_squared_error(Y_test, Y_pred)))"
   ]
  },
  {
   "cell_type": "code",
   "execution_count": 76,
   "id": "6fc49a57",
   "metadata": {},
   "outputs": [
    {
     "name": "stdout",
     "output_type": "stream",
     "text": [
      "Root Mean Squared Error (Random Forest Regression): 48204.21177764986\n"
     ]
    }
   ],
   "source": [
    "# Perform Random Forest regression to the training set\n",
    "from sklearn.ensemble import RandomForestRegressor\n",
    "\n",
    "# create a random forest regression object\n",
    "rfr = RandomForestRegressor(random_state=0)\n",
    "\n",
    "# fit the model on the training data\n",
    "rfr.fit(X_train, Y_train)\n",
    "\n",
    "# predict the output for test data using the fitted model\n",
    "Y_pred_rfr = rfr.predict(X_test)\n",
    "\n",
    "# calculate the root mean squared error (RMSE)\n",
    "rmse_rfr = mean_squared_error(Y_test, Y_pred_rfr, squared=False)\n",
    "print(\"Root Mean Squared Error (Random Forest Regression):\", rmse_rfr)\n",
    "\n",
    "\n"
   ]
  },
  {
   "cell_type": "code",
   "execution_count": 78,
   "id": "2f53bd68",
   "metadata": {},
   "outputs": [
    {
     "data": {
      "image/png": "[encoded data removed]",
      "text/plain": [
       "<Figure size 432x288 with 1 Axes>"
      ]
     },
     "metadata": {
      "needs_background": "light"
     },
     "output_type": "display_data"
    },
    {
     "data": {
      "image/png": "[encoded data removed]",
      "text/plain": [
       "<Figure size 432x288 with 1 Axes>"
      ]
     },
     "metadata": {
      "needs_background": "light"
     },
     "output_type": "display_data"
    }
   ],
   "source": [
    "#Perform Linear Regression with one independent variable\n",
    "\n",
    "# extract median_income column from X_train and X_test\n",
    "X_train_median_income = X_train[:, 5].reshape(-1, 1)\n",
    "X_test_median_income = X_test[:, 5].reshape(-1, 1)\n",
    "\n",
    "# create a linear regression object\n",
    "lr_median_income = LinearRegression()\n",
    "\n",
    "# fit the model on the training data\n",
    "lr_median_income.fit(X_train_median_income, Y_train)\n",
    "\n",
    "# predict the output for training data using the fitted model\n",
    "Y_pred_train_median_income = lr_median_income.predict(X_train_median_income)\n",
    "\n",
    "# predict the output for test data using the fitted model\n",
    "Y_pred_test_median_income = lr_median_income.predict(X_test_median_income)\n",
    "\n",
    "# plot the fitted model for training data and test data\n",
    "import matplotlib.pyplot as plt\n",
    "\n",
    "plt.scatter(X_train_median_income, Y_train, color='blue')\n",
    "plt.plot(X_train_median_income, Y_pred_train_median_income, color='red')\n",
    "plt.title('Median Income vs Housing Value (Training set)')\n",
    "plt.xlabel('Median Income')\n",
    "plt.ylabel('Housing Value')\n",
    "plt.show()\n",
    "\n",
    "plt.scatter(X_test_median_income, Y_test, color='blue')\n",
    "plt.plot(X_test_median_income, Y_pred_test_median_income, color='red')\n",
    "plt.title('Median Income vs Housing Value (Test set)')\n",
    "plt.xlabel('Median Income')\n",
    "plt.ylabel('Housing Value')\n",
    "plt.show()\n"
   ]
  },
  {
   "cell_type": "code",
   "execution_count": null,
   "id": "478ee11b",
   "metadata": {},
   "outputs": [],
   "source": []
  }
 ],
 "metadata": {
  "kernelspec": {
   "display_name": "Python 3 (ipykernel)",
   "language": "python",
   "name": "python3"
  },
  "language_info": {
   "codemirror_mode": {
    "name": "ipython",
    "version": 3
   },
   "file_extension": ".py",
   "mimetype": "text/x-python",
   "name": "python",
   "nbconvert_exporter": "python",
   "pygments_lexer": "ipython3",
   "version": "3.9.12"
  }
 },
 "nbformat": 4,
 "nbformat_minor": 5
}
